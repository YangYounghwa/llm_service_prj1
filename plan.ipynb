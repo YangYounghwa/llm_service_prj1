{
 "cells": [
  {
   "cell_type": "markdown",
   "id": "21492243",
   "metadata": {},
   "source": [
    "## RAG System Build\n",
    "### \n",
    " - Document Load\n",
    " - Text Split\n",
    " - Embedding\n",
    " - Vector Store\n",
    " - Retriever\n",
    " - Q&A"
   ]
  },
  {
   "cell_type": "markdown",
   "id": "45ffd7f6",
   "metadata": {},
   "source": [
    "## RAG SYSTEM to functions\n",
    "## StreamLit UI + File uploading\n",
    "## Github Repository + Streamlit CRUD\n"
   ]
  },
  {
   "cell_type": "markdown",
   "id": "c242b379",
   "metadata": {},
   "source": []
  }
 ],
 "metadata": {
  "language_info": {
   "name": "python"
  }
 },
 "nbformat": 4,
 "nbformat_minor": 5
}
